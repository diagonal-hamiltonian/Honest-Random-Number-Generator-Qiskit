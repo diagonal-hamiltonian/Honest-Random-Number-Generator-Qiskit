{
 "cells": [
  {
   "cell_type": "code",
   "execution_count": 3,
   "id": "3e7b5357-094f-4ee0-ad1f-69aff54113c6",
   "metadata": {},
   "outputs": [],
   "source": [
    "import numpy as np\n",
    "\n",
    "# Importing standard Qiskit libraries\n",
    "from qiskit import QuantumCircuit, transpile, Aer, IBMQ, assemble\n",
    "from qiskit.tools.jupyter import *\n",
    "from qiskit.visualization import *\n",
    "from ibm_quantum_widgets import *\n",
    "from qiskit.providers.aer import QasmSimulator, statevector_simulator\n",
    "\n",
    "# Loading your IBM Quantum account(s)\n",
    "provider = IBMQ.load_account()"
   ]
  },
  {
   "cell_type": "markdown",
   "id": "6726a9d2-982d-405a-a88c-cbd98ad853bd",
   "metadata": {},
   "source": [
    "# Honest Random Number Generator with Qiskit\n",
    "### So one of biggest (non)issue is the idea of randomness in computation. What does it actually mean to be random? In normal computers sudo-random number generators are used which rely on things like the time and date. But these things are not actually random. That is, given the initial conditions (ie: date/time) and the generation algorithm we could reproduce the 'random' number. This is a reversible process which means we can work our way back. Now I am going to try create a quantum number generator which relys on the irreversibility of quantum measurement and superposition to get me a salt of the earth, honest, random number. \n",
    "\n",
    "(Note that I have to simulate this classically due to IBM hogging their quantum computer)"
   ]
  },
  {
   "cell_type": "code",
   "execution_count": 42,
   "id": "d49d4b6c-d656-40d6-9d68-2c74f74be56f",
   "metadata": {},
   "outputs": [
    {
     "data": {
      "image/png": "[encoded data removed]",
      "text/plain": [
       "<Figure size 193.726x144.48 with 1 Axes>"
      ]
     },
     "execution_count": 42,
     "metadata": {},
     "output_type": "execute_result"
    }
   ],
   "source": [
    "# Create Circuit\n",
    "qc = QuantumCircuit(1,1)\n",
    "\n",
    "# Apply H-gate to the first: Creating superposition\n",
    "qc.h(0)\n",
    "\n",
    "# Measure to retrieve a binary answer to our question\n",
    "qc.measure(0,0)\n",
    "\n",
    "qc.draw()"
   ]
  },
  {
   "cell_type": "code",
   "execution_count": 43,
   "id": "b18c7cd8-6571-4bc9-88bd-bf390b156031",
   "metadata": {},
   "outputs": [
    {
     "name": "stdout",
     "output_type": "stream",
     "text": [
      "['0', '1', '0', '1', '1', '0', '1', '1', '1', '0', '1', '1', '1', '0', '1', '1', '1', '0', '1', '0', '0', '1', '0', '1', '0', '0', '0', '0', '0', '1', '1', '1', '1', '1', '0', '1', '1', '1', '1', '1', '0', '0', '0', '1', '0', '0', '0', '0', '1', '0', '0', '0', '0', '1', '1', '0', '1', '1', '0', '0', '1', '1', '0', '0', '0', '1', '0', '0', '1', '0', '0', '0', '1', '1', '1', '0', '0', '0', '1', '0', '0', '1', '1', '0', '1', '0', '0', '1', '0', '0', '0', '0', '1', '0', '1', '1', '1', '1', '1', '0']\n"
     ]
    },
    {
     "data": {
      "image/png": "[encoded data removed]",
      "text/plain": [
       "<Figure size 504x360 with 1 Axes>"
      ]
     },
     "execution_count": 43,
     "metadata": {},
     "output_type": "execute_result"
    }
   ],
   "source": [
    "# Using Aer simulator: closest to the real thing\n",
    "simulator = Aer.get_backend('aer_simulator')\n",
    "qobj = assemble(qc)\n",
    "\n",
    "# Simulate for 100 shots while retaining memory\n",
    "result = simulator.run(qc, shots=100, memory=True).result()\n",
    "\n",
    "# This memory can be used as a random bitstring sequence\n",
    "memory = result.get_memory(qc)\n",
    "print(memory)\n",
    "\n",
    "# Displaying histogram\n",
    "counts = result.get_counts(qc)\n",
    "plot_histogram(counts, title='Bell-State counts')"
   ]
  },
  {
   "cell_type": "code",
   "execution_count": 4,
   "id": "54cbd8db-e844-4deb-ad5b-fabcb6134f10",
   "metadata": {},
   "outputs": [],
   "source": [
    "\"\"\"Function will return a random decimal with precision base 2 of 'Lenght'\"\"\"\n",
    "\n",
    "def rnd_num(lenght): # lenght is in base 2\n",
    "    \n",
    "    # Create Circuit & superposition\n",
    "    qc = QuantumCircuit(1,1)\n",
    "    qc.h(0)\n",
    "    qc.measure(0,0)\n",
    "\n",
    "    # Simulate and get memory\n",
    "    simulator = Aer.get_backend('aer_simulator')\n",
    "    result = simulator.run(qc, shots=lenght, memory=True).result()\n",
    "    memory = result.get_memory(qc)\n",
    "    \n",
    "    bitstring = ''\n",
    "    for bit in memory: bitstring += bit\n",
    "    \n",
    "    decimal = int(bitstring,2) / ( 10**( len( str( int( bitstring,2) ) ) ) )\n",
    "    \n",
    "    return bitstring, decimal"
   ]
  },
  {
   "cell_type": "code",
   "execution_count": 7,
   "id": "0af59c2e-bda2-42e6-90ca-cfbc2b53b22e",
   "metadata": {},
   "outputs": [
    {
     "name": "stdout",
     "output_type": "stream",
     "text": [
      "('1', 0.1)\n",
      "('01', 0.1)\n",
      "('111', 0.7)\n",
      "('0011', 0.3)\n",
      "('01000', 0.8)\n",
      "('001000', 0.8)\n",
      "('1101111', 0.111)\n",
      "('01010110', 0.86)\n",
      "('110101010', 0.426)\n",
      "('1111000101', 0.965)\n"
     ]
    }
   ],
   "source": [
    "for i in range(1,11): print(rnd_num(i))"
   ]
  },
  {
   "cell_type": "markdown",
   "id": "fa0c1f7f-c9f6-48bd-b09d-0e0b53a7aaee",
   "metadata": {},
   "source": [
    "Funny how these random numbers dont feel any different to sudo random numbers"
   ]
  }
 ],
 "metadata": {
  "kernelspec": {
   "display_name": "Qiskit v0.31.0 (ipykernel)",
   "language": "python",
   "name": "python3"
  },
  "language_info": {
   "codemirror_mode": {
    "name": "ipython",
    "version": 3
   },
   "file_extension": ".py",
   "mimetype": "text/x-python",
   "name": "python",
   "nbconvert_exporter": "python",
   "pygments_lexer": "ipython3",
   "version": "3.8.10"
  },
  "widgets": {
   "application/vnd.jupyter.widget-state+json": {
    "state": {},
    "version_major": 2,
    "version_minor": 0
   }
  }
 },
 "nbformat": 4,
 "nbformat_minor": 5
}
