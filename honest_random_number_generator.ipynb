{
 "cells": [
  {
   "cell_type": "code",
   "execution_count": 1,
   "id": "3e7b5357-094f-4ee0-ad1f-69aff54113c6",
   "metadata": {},
   "outputs": [],
   "source": [
    "import numpy as np\n",
    "\n",
    "# Importing standard Qiskit libraries\n",
    "from qiskit import QuantumCircuit, transpile, Aer, IBMQ, assemble\n",
    "from qiskit.tools.jupyter import *\n",
    "from qiskit.visualization import *\n",
    "from ibm_quantum_widgets import *\n",
    "from qiskit.providers.aer import QasmSimulator, statevector_simulator\n",
    "\n",
    "# Loading your IBM Quantum account(s)\n",
    "provider = IBMQ.load_account()"
   ]
  },
  {
   "cell_type": "markdown",
   "id": "6726a9d2-982d-405a-a88c-cbd98ad853bd",
   "metadata": {},
   "source": [
    "# Honest Random Number Generator with Qiskit\n",
    "### A somewhat big issue is the idea of randomness in computation. What does it actually mean to be random? In normal computers sudo-random number generators are used which rely on things like the time and date. But these things are not actually TRULY random. That is, given the initial conditions (ie: date/time) and the generation algorithm we could reproduce the 'random' number. This is a reversible process which means we can work our way back. Now I am going create a quantum number generator which relys on the irreversibility of quantum measurement and superposition to get me an honest random number. (Note that I have to simulate this classically which makes this project semi redundant but this can easily be changed with access to a quantum computer)"
   ]
  },
  {
   "cell_type": "code",
   "execution_count": 2,
   "id": "d49d4b6c-d656-40d6-9d68-2c74f74be56f",
   "metadata": {},
   "outputs": [
    {
     "data": {
      "image/png": "[encoded data removed]",
      "text/plain": [
       "<Figure size 193.726x144.48 with 1 Axes>"
      ]
     },
     "execution_count": 2,
     "metadata": {},
     "output_type": "execute_result"
    }
   ],
   "source": [
    "# Create Circuit\n",
    "qc = QuantumCircuit(1,1)\n",
    "\n",
    "# Apply H-gate to the first: Creating superposition\n",
    "qc.h(0)\n",
    "\n",
    "# Measure to retrieve a binary answer to our question\n",
    "qc.measure(0,0)\n",
    "\n",
    "qc.draw()"
   ]
  },
  {
   "cell_type": "code",
   "execution_count": 31,
   "id": "b18c7cd8-6571-4bc9-88bd-bf390b156031",
   "metadata": {},
   "outputs": [
    {
     "data": {
      "image/png": "[encoded data removed]",
      "text/plain": [
       "<Figure size 504x360 with 1 Axes>"
      ]
     },
     "execution_count": 31,
     "metadata": {},
     "output_type": "execute_result"
    }
   ],
   "source": [
    "# Using Aer simulator: closest to the real thing\n",
    "simulator = Aer.get_backend('aer_simulator')\n",
    "qobj = assemble(qc)\n",
    "\n",
    "# Simulate for 100 shots while retaining memory\n",
    "result = simulator.run(qc, shots=100, memory=True).result()\n",
    "\n",
    "# This memory can be used as a random bitstring sequence\n",
    "memory = result.get_memory(qc)\n",
    "\n",
    "# Displaying histogram\n",
    "counts = result.get_counts(qc)\n",
    "plot_histogram(counts, title='Bell-State counts')"
   ]
  },
  {
   "cell_type": "code",
   "execution_count": 29,
   "id": "54cbd8db-e844-4deb-ad5b-fabcb6134f10",
   "metadata": {},
   "outputs": [],
   "source": [
    "\"\"\"Function will return a random decimal with precision base 2 of 'Lenght'\"\"\"\n",
    "\n",
    "def rnd_num(lenght): # lenght is in base 2\n",
    "    \n",
    "    # Create Circuit & superposition\n",
    "    qc = QuantumCircuit(1,1)\n",
    "    qc.h(0)\n",
    "    qc.measure(0,0)\n",
    "\n",
    "    # Simulate and get memory\n",
    "    simulator = Aer.get_backend('aer_simulator')\n",
    "    result = simulator.run(qc, shots=lenght, memory=True).result()\n",
    "    memory = result.get_memory(qc)\n",
    "    \n",
    "    # Concatonate the previously created random bits\n",
    "    bitstring = ''\n",
    "    for bit in memory: bitstring += bit\n",
    "    \n",
    "    # 0-1 normalised decimal number\n",
    "    decimal = int(bitstring,2) / ( int(''.join(['1' for _ in range(lenght)]), 2) )\n",
    "    \n",
    "    return bitstring, decimal"
   ]
  },
  {
   "cell_type": "code",
   "execution_count": 30,
   "id": "0af59c2e-bda2-42e6-90ca-cfbc2b53b22e",
   "metadata": {},
   "outputs": [
    {
     "name": "stdout",
     "output_type": "stream",
     "text": [
      "('0', 0.0)\n",
      "('01', 0.3333333333333333)\n",
      "('010', 0.2857142857142857)\n",
      "('0111', 0.4666666666666667)\n",
      "('11111', 1.0)\n",
      "('011010', 0.4126984126984127)\n",
      "('0010110', 0.1732283464566929)\n",
      "('10001000', 0.5333333333333333)\n",
      "('011010011', 0.41291585127201563)\n",
      "('0011001010', 0.19745845552297164)\n"
     ]
    }
   ],
   "source": [
    "for i in range(1,11): print(rnd_num(i))"
   ]
  },
  {
   "cell_type": "markdown",
   "id": "fa0c1f7f-c9f6-48bd-b09d-0e0b53a7aaee",
   "metadata": {},
   "source": [
    "Funny how these random numbers dont feel any different to sudo random numbers"
   ]
  }
 ],
 "metadata": {
  "kernelspec": {
   "display_name": "Qiskit v0.32.1 (ipykernel)",
   "language": "python",
   "name": "python3"
  },
  "language_info": {
   "codemirror_mode": {
    "name": "ipython",
    "version": 3
   },
   "file_extension": ".py",
   "mimetype": "text/x-python",
   "name": "python",
   "nbconvert_exporter": "python",
   "pygments_lexer": "ipython3",
   "version": "3.8.10"
  },
  "widgets": {
   "application/vnd.jupyter.widget-state+json": {
    "state": {
     "0101d1b81f21456db2285d23dcf6f6d8": {
      "model_module": "@jupyter-widgets/base",
      "model_module_version": "1.2.0",
      "model_name": "LayoutModel",
      "state": {
       "margin": "0px 0px 10px 0px"
      }
     },
     "10b5b3cd25f04ab5b8ab1501e236f1ca": {
      "model_module": "@jupyter-widgets/controls",
      "model_module_version": "1.5.0",
      "model_name": "HTMLModel",
      "state": {
       "layout": "IPY_MODEL_f7cb97f0e4d44d06a57b0879986b2063",
       "style": "IPY_MODEL_f4cca1256b7a49218c8ef3424fb21411",
       "value": "<h5>Message</h5>"
      }
     },
     "18bac167af6f47e59c827e435ab6fdd0": {
      "model_module": "@jupyter-widgets/controls",
      "model_module_version": "1.5.0",
      "model_name": "DescriptionStyleModel",
      "state": {
       "description_width": ""
      }
     },
     "2038e74d550d48fe9951d51685f8575d": {
      "model_module": "@jupyter-widgets/controls",
      "model_module_version": "1.5.0",
      "model_name": "HBoxModel",
      "state": {
       "children": [
        "IPY_MODEL_7748f0c4d15f4a38bdc215707f753f6b",
        "IPY_MODEL_da7d99cfecb4454a9a9418616d3fafb6",
        "IPY_MODEL_fe3ca5cb09464484834544db3bd1a0db",
        "IPY_MODEL_e349f1376b7b4c29b0246388d824c34e",
        "IPY_MODEL_10b5b3cd25f04ab5b8ab1501e236f1ca"
       ],
       "layout": "IPY_MODEL_e2a1e3c4d03b451d831870ee02304c45"
      }
     },
     "22418cb32fce4395be7657022b113330": {
      "model_module": "@jupyter-widgets/base",
      "model_module_version": "1.2.0",
      "model_name": "LayoutModel",
      "state": {
       "width": "95px"
      }
     },
     "321f141482cd40d59f9fd921ab22d5ae": {
      "model_module": "@jupyter-widgets/controls",
      "model_module_version": "1.5.0",
      "model_name": "DescriptionStyleModel",
      "state": {
       "description_width": ""
      }
     },
     "375c64bd345d4a3cbe67ea3ebd559cb8": {
      "model_module": "@jupyter-widgets/controls",
      "model_module_version": "1.5.0",
      "model_name": "ButtonModel",
      "state": {
       "button_style": "primary",
       "description": "Clear",
       "layout": "IPY_MODEL_a355d8bc39ba438bb5d63556538ce8cf",
       "style": "IPY_MODEL_acba55d61b174bcab73735ace362ef6c"
      }
     },
     "7600f024d6164741bf81f73627b87253": {
      "model_module": "@jupyter-widgets/base",
      "model_module_version": "1.2.0",
      "model_name": "LayoutModel",
      "state": {
       "width": "70px"
      }
     },
     "7748f0c4d15f4a38bdc215707f753f6b": {
      "model_module": "@jupyter-widgets/controls",
      "model_module_version": "1.5.0",
      "model_name": "HTMLModel",
      "state": {
       "layout": "IPY_MODEL_7a776609bdf0488bb883da4c3747229c",
       "style": "IPY_MODEL_9012ae37b4d2476e8cb4bfc72e30c710",
       "value": "<h5>Job ID</h5>"
      }
     },
     "7a776609bdf0488bb883da4c3747229c": {
      "model_module": "@jupyter-widgets/base",
      "model_module_version": "1.2.0",
      "model_name": "LayoutModel",
      "state": {
       "width": "190px"
      }
     },
     "7b0428b082a446229f34adcd305b7d70": {
      "model_module": "@jupyter-widgets/controls",
      "model_module_version": "1.5.0",
      "model_name": "GridBoxModel",
      "state": {
       "children": [
        "IPY_MODEL_375c64bd345d4a3cbe67ea3ebd559cb8"
       ],
       "layout": "IPY_MODEL_d14b825c275448a6a183509a7c02eead"
      }
     },
     "9012ae37b4d2476e8cb4bfc72e30c710": {
      "model_module": "@jupyter-widgets/controls",
      "model_module_version": "1.5.0",
      "model_name": "DescriptionStyleModel",
      "state": {
       "description_width": ""
      }
     },
     "925ff61bb6ab4be29aec7afce1907cd0": {
      "model_module": "@jupyter-widgets/base",
      "model_module_version": "1.2.0",
      "model_name": "LayoutModel",
      "state": {
       "width": "145px"
      }
     },
     "96dcd5cb83ad47228bc44b5ba83df449": {
      "model_module": "@jupyter-widgets/controls",
      "model_module_version": "1.5.0",
      "model_name": "HTMLModel",
      "state": {
       "layout": "IPY_MODEL_0101d1b81f21456db2285d23dcf6f6d8",
       "style": "IPY_MODEL_18bac167af6f47e59c827e435ab6fdd0",
       "value": "<p style='font-family: IBM Plex Sans, Arial, Helvetica, sans-serif; font-size: 20px; font-weight: medium;'>Circuit Properties</p>"
      }
     },
     "a355d8bc39ba438bb5d63556538ce8cf": {
      "model_module": "@jupyter-widgets/base",
      "model_module_version": "1.2.0",
      "model_name": "LayoutModel",
      "state": {
       "grid_area": "right",
       "padding": "0px 0px 0px 0px",
       "width": "70px"
      }
     },
     "a3b654c2ef024ec4b05687de101d99f3": {
      "model_module": "@jupyter-widgets/controls",
      "model_module_version": "1.5.0",
      "model_name": "DescriptionStyleModel",
      "state": {
       "description_width": ""
      }
     },
     "acba55d61b174bcab73735ace362ef6c": {
      "model_module": "@jupyter-widgets/controls",
      "model_module_version": "1.5.0",
      "model_name": "ButtonStyleModel",
      "state": {}
     },
     "c74ef57d93ed493c8702bc577c39c226": {
      "model_module": "@jupyter-widgets/controls",
      "model_module_version": "1.5.0",
      "model_name": "DescriptionStyleModel",
      "state": {
       "description_width": ""
      }
     },
     "d14b825c275448a6a183509a7c02eead": {
      "model_module": "@jupyter-widgets/base",
      "model_module_version": "1.2.0",
      "model_name": "LayoutModel",
      "state": {
       "grid_template_areas": "\n                                       \". . . . right \"\n                                        ",
       "grid_template_columns": "20% 20% 20% 20% 20%",
       "width": "100%"
      }
     },
     "da7d99cfecb4454a9a9418616d3fafb6": {
      "model_module": "@jupyter-widgets/controls",
      "model_module_version": "1.5.0",
      "model_name": "HTMLModel",
      "state": {
       "layout": "IPY_MODEL_925ff61bb6ab4be29aec7afce1907cd0",
       "style": "IPY_MODEL_a3b654c2ef024ec4b05687de101d99f3",
       "value": "<h5>Backend</h5>"
      }
     },
     "e2a1e3c4d03b451d831870ee02304c45": {
      "model_module": "@jupyter-widgets/base",
      "model_module_version": "1.2.0",
      "model_name": "LayoutModel",
      "state": {
       "margin": "0px 0px 0px 37px",
       "width": "600px"
      }
     },
     "e349f1376b7b4c29b0246388d824c34e": {
      "model_module": "@jupyter-widgets/controls",
      "model_module_version": "1.5.0",
      "model_name": "HTMLModel",
      "state": {
       "layout": "IPY_MODEL_7600f024d6164741bf81f73627b87253",
       "style": "IPY_MODEL_321f141482cd40d59f9fd921ab22d5ae",
       "value": "<h5>Queue</h5>"
      }
     },
     "f4cca1256b7a49218c8ef3424fb21411": {
      "model_module": "@jupyter-widgets/controls",
      "model_module_version": "1.5.0",
      "model_name": "DescriptionStyleModel",
      "state": {
       "description_width": ""
      }
     },
     "f7cb97f0e4d44d06a57b0879986b2063": {
      "model_module": "@jupyter-widgets/base",
      "model_module_version": "1.2.0",
      "model_name": "LayoutModel",
      "state": {}
     },
     "fe3ca5cb09464484834544db3bd1a0db": {
      "model_module": "@jupyter-widgets/controls",
      "model_module_version": "1.5.0",
      "model_name": "HTMLModel",
      "state": {
       "layout": "IPY_MODEL_22418cb32fce4395be7657022b113330",
       "style": "IPY_MODEL_c74ef57d93ed493c8702bc577c39c226",
       "value": "<h5>Status</h5>"
      }
     }
    },
    "version_major": 2,
    "version_minor": 0
   }
  }
 },
 "nbformat": 4,
 "nbformat_minor": 5
}
